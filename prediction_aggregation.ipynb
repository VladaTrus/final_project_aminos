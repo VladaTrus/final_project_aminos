{
 "cells": [
  {
   "cell_type": "code",
   "execution_count": 153,
   "metadata": {},
   "outputs": [],
   "source": [
    "%cd СОВМЕЩЕНИЕ ПРЕДСКАЗАНИЙ"
   ]
  },
  {
   "cell_type": "code",
   "execution_count": 154,
   "metadata": {
    "colab": {
     "base_uri": "https://localhost:8080/"
    },
    "id": "6XwwE3sOfP8u",
    "outputId": "3d919fa0-8d00-4151-8209-0698bc261933"
   },
   "outputs": [
    {
     "name": "stdout",
     "output_type": "stream",
     "text": [
      "ARG.npy                            pic_q_1.png\r\n",
      "ARG.npy.zip                        pic_q_5.png\r\n",
      "VAL.npy                            prediction_aggregation.ipynb\r\n",
      "VAL.npy.zip                        prediction_aggregation_1.ipynb\r\n",
      "\u001b[34m__pycache__\u001b[m\u001b[m                        sch_multiple_pred_data_creation.py\r\n",
      "\u001b[34mchain_segment_chi_prediction\u001b[m\u001b[m       \u001b[34msidechain_builder\u001b[m\u001b[m\r\n",
      "data_2phase.png                    w_le_best.pth\r\n",
      "data_2phase_2.png                  w_le_best_01.pth\r\n",
      "model_01.pth                       w_le_nn_1.pth\r\n",
      "model_bn.pth                       w_le_nn_2.pth\r\n",
      "nn_1_weights_le.pth                ww1\r\n",
      "nn_1_weights_le_1_1.pth            ww1.png\r\n",
      "nn_1_weights_le_2.pth              ww2\r\n",
      "nn_3_le.pth                        ww2.png\r\n",
      "nn_4_le.pth\r\n"
     ]
    }
   ],
   "source": [
    "!ls"
   ]
  },
  {
   "cell_type": "code",
   "execution_count": 155,
   "metadata": {
    "colab": {
     "base_uri": "https://localhost:8080/"
    },
    "id": "4WOpTpmUfcn0",
    "outputId": "c98f03a2-00d0-4914-b4f8-5b6a0888693e"
   },
   "outputs": [
    {
     "name": "stdout",
     "output_type": "stream",
     "text": [
      "Requirement already satisfied: Bio in /Users/vladlenatrus/opt/anaconda3/lib/python3.7/site-packages (0.4.1)\n",
      "Requirement already satisfied: numpy<1.20 in /Users/vladlenatrus/.local/lib/python3.7/site-packages (from Bio) (1.18.5)\n",
      "Requirement already satisfied: biopython>=1.78 in /Users/vladlenatrus/opt/anaconda3/lib/python3.7/site-packages (from Bio) (1.78)\n",
      "Requirement already satisfied: requests in /Users/vladlenatrus/opt/anaconda3/lib/python3.7/site-packages (from Bio) (2.24.0)\n",
      "Requirement already satisfied: idna<3,>=2.5 in /Users/vladlenatrus/opt/anaconda3/lib/python3.7/site-packages (from requests->Bio) (2.10)\n",
      "Requirement already satisfied: urllib3!=1.25.0,!=1.25.1,<1.26,>=1.21.1 in /Users/vladlenatrus/opt/anaconda3/lib/python3.7/site-packages (from requests->Bio) (1.25.10)\n",
      "Requirement already satisfied: certifi>=2017.4.17 in /Users/vladlenatrus/opt/anaconda3/lib/python3.7/site-packages (from requests->Bio) (2020.6.20)\n",
      "Requirement already satisfied: chardet<4,>=3.0.2 in /Users/vladlenatrus/opt/anaconda3/lib/python3.7/site-packages (from requests->Bio) (3.0.4)\n"
     ]
    }
   ],
   "source": [
    "!pip install Bio"
   ]
  },
  {
   "cell_type": "code",
   "execution_count": 156,
   "metadata": {
    "id": "T7Xsl19nfWNE"
   },
   "outputs": [],
   "source": [
    "from chain_segment_chi_prediction.prediction_aggregation import ChiPredictionAggregator\n",
    "from chain_segment_chi_prediction.ml_wrapping import MLModelWrapper\n",
    "from sch_multiple_pred_data_creation import DataCreator\n",
    "from sidechain_builder.config import SideChain\n",
    "import numpy as np\n",
    "import Bio.PDB as pdb\n",
    "from tqdm.notebook import tqdm"
   ]
  },
  {
   "cell_type": "markdown",
   "metadata": {
    "id": "0c1Lk6NReC4r"
   },
   "source": [
    "# Методология:\n",
    "\n",
    "1. Для N=1000 samples одной аминокислоты собираем матрицы предсказаний из разных сэмплов модели ML. Получаем X - матрицу входа размером (Nx64x36) и y - вектор длины N с оригинальными значениями $chi_1$ для каждого сэмпла\n",
    "\n",
    "2. Получаем веса weights."
   ]
  },
  {
   "cell_type": "markdown",
   "metadata": {
    "id": "OqIiyC_2eC4s"
   },
   "source": [
    "# ПЕРВЫЕ ДВА БЛОКА ЗАПУСКАТЬ НЕ НУЖНО. <a href=\"#agg\">ПЕРЕЙТИ К АГРЕГАЦИИ</a>"
   ]
  },
  {
   "cell_type": "markdown",
   "metadata": {
    "id": "ef0Y_2JveC4s"
   },
   "source": [
    "  "
   ]
  },
  {
   "cell_type": "markdown",
   "metadata": {
    "id": "lSGfHa30eC4t"
   },
   "source": [
    "  "
   ]
  },
  {
   "cell_type": "markdown",
   "metadata": {
    "id": "gBlfwGPZeC4v"
   },
   "source": [
    "  "
   ]
  },
  {
   "cell_type": "markdown",
   "metadata": {
    "id": "c21woPOIeC4w"
   },
   "source": [
    "  "
   ]
  },
  {
   "cell_type": "markdown",
   "metadata": {
    "id": "BuuyxSkieC4x"
   },
   "source": [
    "# ВСПОМОГАТЕЛЬНЫЕ ФУНКЦИИ"
   ]
  },
  {
   "cell_type": "code",
   "execution_count": null,
   "metadata": {
    "id": "sgZfY4pleC4x"
   },
   "outputs": [],
   "source": [
    "FEATURES_TO_FETCH = [\"resname\", \n",
    "                \"polarity_group\", \n",
    "                \"hydropathy_group\", \n",
    "                \"volume_group\", \n",
    "                \"chemical_group\", \n",
    "                \"physicochemical_group\", \n",
    "                \"charge_group\", \n",
    "                \"hydrogen_donor_acceptor_group\"]"
   ]
  },
  {
   "cell_type": "code",
   "execution_count": null,
   "metadata": {
    "id": "GoNHkJz2eC4y"
   },
   "outputs": [],
   "source": [
    "import json\n",
    "with open(\"../../pspredictor/resources/amino_acid_features.json\") as f:\n",
    "    res_features = json.loads(f.read())\n",
    "with open(\"../../pspredictor/resources/aminoacid_angle_atoms.json\") as f:\n",
    "    chi_atoms = json.loads(f.read())"
   ]
  },
  {
   "cell_type": "code",
   "execution_count": null,
   "metadata": {
    "id": "cCtO2Eo2eC4z"
   },
   "outputs": [],
   "source": [
    "def count_feature_num(num_residues):\n",
    "    M = sum([np.unique([v[fea] for k,v in res_features.items()]).shape[0] for fea in FEATURES_TO_FETCH])\n",
    "    M += 8 + num_residues + 36 + 36\n",
    "    return M\n",
    "\n",
    "def get_classification_features(residue):\n",
    "    features = FEATURES_TO_FETCH\n",
    "    all_values = [np.unique([v[fea] for k,v in res_features.items()]).tolist() for fea in features]\n",
    "    ans = np.empty(0)\n",
    "    resname = residue.resname\n",
    "    for i in range(len(features)):\n",
    "        fea_ans = np.zeros(len(all_values[i]))\n",
    "        fea_ans[all_values[i].index(res_features[resname][features[i]])] = 1\n",
    "        ans = np.hstack((ans, fea_ans))\n",
    "    return ans\n",
    "\n",
    "def get_backbone_features(chain, dssp_result, res_ind):\n",
    "    # DSSP\n",
    "    all_dssp_values = [\"H\", \"B\", \"E\", \"G\", \"I\", \"T\", \"S\", \"-\"]\n",
    "    ans = np.zeros(len(all_dssp_values))\n",
    "    ans[all_dssp_values.index(dssp_result[(chain[res_ind].parent.get_id(), \n",
    "                                           chain[res_ind].get_id())][2])] = 1\n",
    "    # phi\n",
    "    phi_ans = np.zeros(36)\n",
    "    if res_ind > 0:\n",
    "        phi_val = pdb.calc_dihedral(chain[res_ind-1][\"C\"].get_vector(),\n",
    "                                    chain[res_ind][\"N\"].get_vector(),\n",
    "                                    chain[res_ind][\"CA\"].get_vector(),\n",
    "                                    chain[res_ind][\"C\"].get_vector())\n",
    "        phi_val = max(min(int(phi_val // (2*np.pi/36)), 17), -18)\n",
    "        phi_ans[phi_val] = 1\n",
    "    else:\n",
    "        # if no phi can be computed, just set to 0'th bin\n",
    "        # TODO: maybe 18'th? (phi = 0)\n",
    "        phi_ans[0] = 1\n",
    "    ans = np.hstack((ans, phi_ans))\n",
    "    \n",
    "    # psi\n",
    "    psi_ans = np.zeros(36)\n",
    "    if res_ind < len(chain) - 1:\n",
    "        psi_val = pdb.calc_dihedral(chain[res_ind][\"N\"].get_vector(),\n",
    "                                    chain[res_ind][\"CA\"].get_vector(),\n",
    "                                    chain[res_ind][\"C\"].get_vector(),\n",
    "                                    chain[res_ind+1][\"N\"].get_vector())\n",
    "        psi_val = max(min(int(psi_val // (2*np.pi/36)), 17), -18)\n",
    "        psi_ans[psi_val] = 1\n",
    "    else:\n",
    "        # if no phi can be computed, just set to 0'th bin\n",
    "        # TODO: maybe 18'th? (phi = 0)\n",
    "        psi_ans[0] = 1\n",
    "    ans = np.hstack((ans, psi_ans))\n",
    "    \n",
    "    return ans\n",
    "\n",
    "def create_dist_matrix(chain, by_atom=\"CA\"):\n",
    "    matr = np.zeros((len(chain), len(chain)))\n",
    "    for i in range(len(chain) - 1):\n",
    "        for j in range(i+1, len(chain)):\n",
    "            matr[i,j] = matr[j,i] = chain[i][by_atom if chain[i].has_id(by_atom) else \"CA\"] - chain[j][by_atom if chain[j].has_id(by_atom) else \"CA\"]\n",
    "    return matr\n",
    "\n",
    "\n",
    "def get_chi_distribution(residue, angle_num=1):\n",
    "    if angle_num != 1:\n",
    "        raise Exception(\"Not currently implemented!\")\n",
    "    # ans = np.zeros((1,36))\n",
    "    if residue.resname in [\"ALA\", \"GLY\"]:\n",
    "        return np.zeros((1,36))\n",
    "    chi_val = pdb.calc_dihedral(*[residue[at_name].get_vector() for at_name in chi_atoms[residue.resname][angle_num - 1]])\n",
    "    chi_val = chi_val / np.pi * 180\n",
    "    y_bounds = np.arange(-180, 181, 10)\n",
    "    return np.array([[1 if (y_bounds[k] <= chi_val <= y_bounds[k+1]) else 0 for k in range(len(y_bounds) - 1)]])\n",
    "\n",
    "def fetch_sample(chain, dssp_result, i_start, num_residues):\n",
    "    M = count_feature_num(num_residues)\n",
    "    ans = np.zeros((num_residues, M))\n",
    "    y_ans = np.zeros((num_residues, 36))\n",
    "    ind_stop = None\n",
    "    for i in range(i_start, i_start + num_residues):\n",
    "        if i >= len(chain):\n",
    "            ind_stop = i - i_start\n",
    "            break\n",
    "        row = get_classification_features(chain[i])\n",
    "        row = np.hstack((row, get_backbone_features(chain, dssp_result, i)))\n",
    "        ans[i - i_start, 0:len(row)] = row\n",
    "        y_ans[i - i_start] = get_chi_distribution(chain[i])\n",
    "        # print(\"distrib sum:\", get_chi_distribution(chain[i]).sum())\n",
    "    if ind_stop is None:\n",
    "        ind_stop = num_residues\n",
    "    \n",
    "    # normed contact matrix\n",
    "    dist_matr = create_dist_matrix(chain[i_start:i_start + num_residues])\n",
    "    dist_matr[dist_matr > R] = 0\n",
    "    dist_matr /= R\n",
    "    ans[:ind_stop, len(row):len(row) + ind_stop] = dist_matr\n",
    "    \n",
    "    \n",
    "    return ans, y_ans"
   ]
  },
  {
   "cell_type": "markdown",
   "metadata": {
    "id": "TA5T8ERReC40"
   },
   "source": [
    "  "
   ]
  },
  {
   "cell_type": "markdown",
   "metadata": {
    "id": "NBlstBr9eC41"
   },
   "source": [
    "  "
   ]
  },
  {
   "cell_type": "markdown",
   "metadata": {
    "id": "on6Ry2iQeC48"
   },
   "source": [
    "  "
   ]
  },
  {
   "cell_type": "markdown",
   "metadata": {
    "id": "LUfQ-GpNeC49"
   },
   "source": [
    "# Сбор данных"
   ]
  },
  {
   "cell_type": "code",
   "execution_count": null,
   "metadata": {
    "id": "pIWK0XyaeC5A"
   },
   "outputs": [],
   "source": [
    "import json\n",
    "with open(\"./side-chain-multiple-data-extended_no_padding/filenames.json\") as f:\n",
    "    filenames = json.loads(f.read())"
   ]
  },
  {
   "cell_type": "code",
   "execution_count": null,
   "metadata": {
    "id": "F3BLVV7AeC5C"
   },
   "outputs": [],
   "source": [
    "NUM_TRAIN_SAMPLES = 1000\n",
    "NUM_TEST_SAMPLES = 400\n",
    "# PDB_PATH = \"/Volumes/Seagate/PDB/ftp.wwpdb.org/pub/pdb/data/structures/divided/pdb/\"\n",
    "PDB_PATH = \"/Volumes/Scishare/PDB/ftp.wwpdb.org/pub/pdb/data/structures/divided/pdb/\""
   ]
  },
  {
   "cell_type": "code",
   "execution_count": null,
   "metadata": {
    "id": "ydwFrG7TeC5C"
   },
   "outputs": [],
   "source": [
    "import numpy as np\n",
    "train_pdbs = list(set([name.split(\"/\")[-1].split(\"_\")[0] for name in filenames[\"train\"]]))\n",
    "test_pdbs = list(set([name.split(\"/\")[-1].split(\"_\")[0] for name in filenames[\"test\"]]))\n",
    "np.random.shuffle(train_pdbs)\n",
    "np.random.shuffle(test_pdbs)"
   ]
  },
  {
   "cell_type": "code",
   "execution_count": null,
   "metadata": {
    "id": "QTqHNUvoeC5F"
   },
   "outputs": [],
   "source": [
    "def get_agg_sample(fetcher, tgt_ind):\n",
    "    ans = [] # np.zeros((64, 64, count_feature_num(64)))\n",
    "    \n",
    "    i_start_begin = max(tgt_ind - 64 + 1, 0)\n",
    "    i_start_end = min(tgt_ind + 1, len(fetcher._chain) - 64)\n",
    "    step = 1\n",
    "    for i_start in range(i_start_begin, i_start_end, step):\n",
    "        sample = fetcher.get_sample(i_start, 64)\n",
    "        ans += [sample]\n",
    "    chi1_orig = SideChain(fetcher._chain[tgt_ind].resname, \n",
    "                          {}, \n",
    "                          pdb_residue=fetcher._chain[tgt_ind]).get_dihedrals()[\"chi1\"]\n",
    "    return (ans, i_start_begin, tgt_ind, chi1_orig)"
   ]
  },
  {
   "cell_type": "code",
   "execution_count": null,
   "metadata": {
    "id": "F6aTwC1OeC5F"
   },
   "outputs": [],
   "source": [
    "def collect_samples(pdb_ids, resname, num_samples=1000):\n",
    "    features_to_fetch = [\"resname\", \n",
    "                     \"polarity_group\", \n",
    "                     \"hydropathy_group\", \n",
    "                     \"volume_group\", \n",
    "                     \"chemical_group\", \n",
    "                     \"physicochemical_group\", \n",
    "                     \"charge_group\", \n",
    "                     \"hydrogen_donor_acceptor_group\"\n",
    "                    ]\n",
    "    import json\n",
    "    with open(\"../../pspredictor/resources/amino_acid_features.json\") as f:\n",
    "        res_features = json.loads(f.read())\n",
    "    parser = pdb.PDBParser()\n",
    "    samples = []\n",
    "    with tqdm(total=num_samples) as tbar:\n",
    "        for pdb_id in pdb_ids:\n",
    "            path = PDB_PATH + pdb_id[1:3] + \"/pdb\" + pdb_id + \".ent\"\n",
    "            try: \n",
    "                fetcher = DataCreator(path, features_to_fetch, res_features, constants={\"R\": 10})\n",
    "            except:\n",
    "                print(f\"Couldn't open {pdb_id}\")\n",
    "                continue\n",
    "\n",
    "    #         dssp_result = dict(pdb.DSSP(struct[0], path))\n",
    "    #         get_agg_sample(fetcher, )\n",
    "            for i in range(len(fetcher._chain)):\n",
    "                if fetcher._chain[i].resname != resname:\n",
    "                    continue\n",
    "                try:\n",
    "                    samples += [get_agg_sample(fetcher, i)]\n",
    "                    tbar.update(1)\n",
    "                except Exception as e:\n",
    "                    raise e\n",
    "                    continue\n",
    "                if len(samples) >= num_samples:\n",
    "                    break\n",
    "#             print(f\"After {pdb_id}: {len(samples)}\")\n",
    "            if len(samples) >= num_samples:\n",
    "                break\n",
    "    return samples"
   ]
  },
  {
   "cell_type": "code",
   "execution_count": null,
   "metadata": {
    "id": "SeKxppC6eC5H",
    "outputId": "ed25cc5d-32e3-4ec2-b390-ff7748e1fa6e"
   },
   "outputs": [
    {
     "data": {
      "text/plain": [
       "['THR', 'TRP', 'TYR', 'VAL']"
      ]
     },
     "execution_count": 121,
     "metadata": {
      "tags": []
     },
     "output_type": "execute_result"
    }
   ],
   "source": [
    "amacids = list(res_features.keys())\n",
    "amacids = amacids[amacids.index(\"THR\"):]\n",
    "amacids"
   ]
  },
  {
   "cell_type": "code",
   "execution_count": null,
   "metadata": {
    "colab": {
     "referenced_widgets": [
      "992ae14790a74af9a3474c5e0ea3d1c9",
      "4d0440d4ce474ffba2648bb0d8d3948d",
      "f9d21fdf13af4ebba164e268df3993d7",
      "91dbb11e914d4f58b3ff4269ca312fa4",
      "2a831af8fe9f4382b812012fb8ca9e17",
      "620b9963e08e445fa94ab8fea0ec1b09",
      "d9bbb34e30ed49feb57b0aa7f5e63886",
      "951a83def6074346b74acdfa283df684"
     ]
    },
    "id": "DZ3rQq_aeC5K",
    "outputId": "8f0e16c6-0c6b-4364-c1cd-1b8db63fe58f",
    "scrolled": true
   },
   "outputs": [
    {
     "name": "stdout",
     "output_type": "stream",
     "text": [
      "THR\n"
     ]
    },
    {
     "data": {
      "application/vnd.jupyter.widget-view+json": {
       "model_id": "992ae14790a74af9a3474c5e0ea3d1c9",
       "version_major": 2,
       "version_minor": 0
      },
      "text/plain": [
       "HBox(children=(FloatProgress(value=0.0, max=1000.0), HTML(value='')))"
      ]
     },
     "metadata": {
      "tags": []
     },
     "output_type": "display_data"
    },
    {
     "name": "stdout",
     "output_type": "stream",
     "text": [
      "\n"
     ]
    },
    {
     "data": {
      "application/vnd.jupyter.widget-view+json": {
       "model_id": "4d0440d4ce474ffba2648bb0d8d3948d",
       "version_major": 2,
       "version_minor": 0
      },
      "text/plain": [
       "HBox(children=(FloatProgress(value=0.0, max=400.0), HTML(value='')))"
      ]
     },
     "metadata": {
      "tags": []
     },
     "output_type": "display_data"
    },
    {
     "name": "stdout",
     "output_type": "stream",
     "text": [
      "\n",
      "TRP\n"
     ]
    },
    {
     "data": {
      "application/vnd.jupyter.widget-view+json": {
       "model_id": "f9d21fdf13af4ebba164e268df3993d7",
       "version_major": 2,
       "version_minor": 0
      },
      "text/plain": [
       "HBox(children=(FloatProgress(value=0.0, max=1000.0), HTML(value='')))"
      ]
     },
     "metadata": {
      "tags": []
     },
     "output_type": "display_data"
    },
    {
     "name": "stderr",
     "output_type": "stream",
     "text": [
      "/usr/local/lib/python3.8/site-packages/Bio/PDB/PDBParser.py:395: PDBConstructionWarning: Ignoring unrecognized record 'ATO\u0000\u0000\u0000' at line 1518\n",
      "  warnings.warn(\n"
     ]
    },
    {
     "name": "stdout",
     "output_type": "stream",
     "text": [
      "\n"
     ]
    },
    {
     "data": {
      "application/vnd.jupyter.widget-view+json": {
       "model_id": "91dbb11e914d4f58b3ff4269ca312fa4",
       "version_major": 2,
       "version_minor": 0
      },
      "text/plain": [
       "HBox(children=(FloatProgress(value=0.0, max=400.0), HTML(value='')))"
      ]
     },
     "metadata": {
      "tags": []
     },
     "output_type": "display_data"
    },
    {
     "name": "stdout",
     "output_type": "stream",
     "text": [
      "\n",
      "TYR\n"
     ]
    },
    {
     "data": {
      "application/vnd.jupyter.widget-view+json": {
       "model_id": "2a831af8fe9f4382b812012fb8ca9e17",
       "version_major": 2,
       "version_minor": 0
      },
      "text/plain": [
       "HBox(children=(FloatProgress(value=0.0, max=1000.0), HTML(value='')))"
      ]
     },
     "metadata": {
      "tags": []
     },
     "output_type": "display_data"
    },
    {
     "name": "stderr",
     "output_type": "stream",
     "text": [
      "/usr/local/lib/python3.8/site-packages/Bio/PDB/vectors.py:357: RuntimeWarning: invalid value encountered in double_scalars\n",
      "  c = (self * other) / (n1 * n2)\n"
     ]
    },
    {
     "name": "stdout",
     "output_type": "stream",
     "text": [
      "\n"
     ]
    },
    {
     "data": {
      "application/vnd.jupyter.widget-view+json": {
       "model_id": "620b9963e08e445fa94ab8fea0ec1b09",
       "version_major": 2,
       "version_minor": 0
      },
      "text/plain": [
       "HBox(children=(FloatProgress(value=0.0, max=400.0), HTML(value='')))"
      ]
     },
     "metadata": {
      "tags": []
     },
     "output_type": "display_data"
    },
    {
     "name": "stdout",
     "output_type": "stream",
     "text": [
      "\n",
      "VAL\n"
     ]
    },
    {
     "data": {
      "application/vnd.jupyter.widget-view+json": {
       "model_id": "d9bbb34e30ed49feb57b0aa7f5e63886",
       "version_major": 2,
       "version_minor": 0
      },
      "text/plain": [
       "HBox(children=(FloatProgress(value=0.0, max=1000.0), HTML(value='')))"
      ]
     },
     "metadata": {
      "tags": []
     },
     "output_type": "display_data"
    },
    {
     "name": "stdout",
     "output_type": "stream",
     "text": [
      "\n"
     ]
    },
    {
     "data": {
      "application/vnd.jupyter.widget-view+json": {
       "model_id": "951a83def6074346b74acdfa283df684",
       "version_major": 2,
       "version_minor": 0
      },
      "text/plain": [
       "HBox(children=(FloatProgress(value=0.0, max=400.0), HTML(value='')))"
      ]
     },
     "metadata": {
      "tags": []
     },
     "output_type": "display_data"
    },
    {
     "name": "stdout",
     "output_type": "stream",
     "text": [
      "\n"
     ]
    }
   ],
   "source": [
    "for resname in amacids:\n",
    "    if resname in [\"ALA\", \"GLY\"]:\n",
    "        continue\n",
    "    print(resname)\n",
    "    train_data = collect_samples(train_pdbs, resname, NUM_TRAIN_SAMPLES)\n",
    "    test_data = collect_samples(test_pdbs, resname, NUM_TEST_SAMPLES)\n",
    "    res_data = {\"train\": train_data, \n",
    "                \"test\": test_data}\n",
    "    np.save(f\"./agg_data/{resname}.npy\", res_data)\n",
    "    del res_data\n",
    "    del train_data\n",
    "    del test_data"
   ]
  },
  {
   "cell_type": "code",
   "execution_count": null,
   "metadata": {
    "id": "6Ib59xSJeC5O"
   },
   "outputs": [],
   "source": [
    "with open(\"../../pspredictor/resources/amino_acid_features.json\") as f:\n",
    "        res_features = json.loads(f.read())"
   ]
  },
  {
   "cell_type": "code",
   "execution_count": null,
   "metadata": {
    "id": "U2LqT5dgeC5P",
    "outputId": "99dcfe3f-bb48-451b-a459-c06b40716910"
   },
   "outputs": [
    {
     "data": {
      "text/plain": [
       "dict_keys(['ALA', 'ARG', 'ASN', 'ASP', 'CYS', 'GLN', 'GLU', 'GLY', 'HIS', 'ILE', 'LEU', 'LYS', 'MET', 'PHE', 'PRO', 'SER', 'THR', 'TRP', 'TYR', 'VAL'])"
      ]
     },
     "execution_count": 49,
     "metadata": {
      "tags": []
     },
     "output_type": "execute_result"
    }
   ],
   "source": [
    "res_features.keys()"
   ]
  },
  {
   "cell_type": "markdown",
   "metadata": {
    "id": "nNg-6q4weC5Q"
   },
   "source": [
    " "
   ]
  },
  {
   "cell_type": "markdown",
   "metadata": {
    "id": "XbgueDoleC5Q"
   },
   "source": [
    " "
   ]
  },
  {
   "cell_type": "markdown",
   "metadata": {
    "id": "f7Mw4H7PeC5R"
   },
   "source": [
    " "
   ]
  },
  {
   "cell_type": "markdown",
   "metadata": {
    "id": "ahj1B0q8eC5R"
   },
   "source": [
    " "
   ]
  },
  {
   "cell_type": "markdown",
   "metadata": {
    "id": "lgmy4StaeC5R"
   },
   "source": [
    " "
   ]
  },
  {
   "cell_type": "markdown",
   "metadata": {
    "id": "PkolUXvseC5S"
   },
   "source": [
    " "
   ]
  },
  {
   "cell_type": "markdown",
   "metadata": {
    "id": "wXnohyu7eC5S"
   },
   "source": [
    " "
   ]
  },
  {
   "cell_type": "markdown",
   "metadata": {
    "id": "YqSN_1u7eC5S"
   },
   "source": [
    "# <a name=\"agg\"></a> АГРЕГАЦИЯ ПРЕДСКАЗАНИЙ"
   ]
  },
  {
   "cell_type": "markdown",
   "metadata": {
    "id": "AXgC80DmeC5T"
   },
   "source": [
    "### Методология:\n",
    "\n",
    "Для каждой аминокислоты:\n",
    "    \n",
    "    Для каждого сэмпла из выборки agg_data:\n",
    "    \n",
    "        Предсказываем моделью ML результат для каждого sub-сэмпла.\n",
    "        \n",
    "        Агрегируем все предсказания в матрицу, дозаполняем нулями.\n",
    "        \n",
    "    Собираем все таблицы; фиттим веса для агрегации."
   ]
  },
  {
   "cell_type": "markdown",
   "metadata": {},
   "source": [
    "## Предсказание в два этапа"
   ]
  },
  {
   "cell_type": "code",
   "execution_count": 157,
   "metadata": {},
   "outputs": [],
   "source": [
    "import numpy as np\n",
    "import pandas as pd\n",
    "import matplotlib.pyplot as plt\n",
    "# import Bio.PDB as pdb\n",
    "import json\n",
    "from torch.nn import LSTM, Conv2d, Conv1d, Linear, Dropout, Sequential, Module, MaxPool2d, AvgPool2d, Flatten, BCELoss, Sigmoid, ReLU, Dropout2d, Dropout\n",
    "from torch import cat, Tensor, reshape\n",
    "from torch.optim import Adam\n",
    "from torch.utils.data import Dataset, DataLoader\n",
    "import torch\n",
    "from torch.nn import functional as F\n",
    "from torch import nn\n",
    "from keras.models import load_model\n",
    "import tensorflow as tf"
   ]
  },
  {
   "cell_type": "code",
   "execution_count": 158,
   "metadata": {},
   "outputs": [],
   "source": [
    "RESNAME = \"VAL\""
   ]
  },
  {
   "cell_type": "code",
   "execution_count": 159,
   "metadata": {
    "id": "KBGKfn56eC5p"
   },
   "outputs": [],
   "source": [
    "res_data = np.load(f\"{RESNAME}.npy\", allow_pickle=True)\n",
    "X_train = res_data.item()[\"train\"]\n",
    "X_test = res_data.item()[\"test\"]\n",
    "del res_data"
   ]
  },
  {
   "cell_type": "code",
   "execution_count": 160,
   "metadata": {},
   "outputs": [],
   "source": [
    "# def proceed_samples(X, md_wrapper):\n",
    "#     out_X, out_y = np.empty((0, 64, 36)), np.empty(0)\n",
    "#     print(\"Processing samples:\")\n",
    "#     for samp in tqdm(X):\n",
    "#         samp_out = np.zeros((64, 36))\n",
    "#         subsamps, i_start_begin, tgt_ind, chi1_orig = samp\n",
    "#         for i in range(len(subsamps)):\n",
    "#             X_new = None\n",
    "#             flag = True\n",
    "#             pred_ind = 0\n",
    "#             for ind in ar_dims:\n",
    "#                 x_temp = subsamps[i][0][0].T[pred_ind:pred_ind + ind].T\n",
    "#                 x_temp_2 = np.argmax(x_temp, axis=1)\n",
    "#                 pred_ind += ind\n",
    "#                 if flag:\n",
    "#                     X_new = x_temp_2.reshape(1, -1)\n",
    "#                     flag = False\n",
    "#                 else:\n",
    "#                     X_new = np.vstack([X_new, x_temp_2.reshape(1, -1)])\n",
    "#             print(X_new.shape)\n",
    "\n",
    "\n",
    "#             pred = md_wrapper.predict(torch.from_numpy(X_new).float())[0]\n",
    "#             tgt_line_ind = tgt_ind - i_start_begin - i\n",
    "#             tgt_line = pred[tgt_line_ind]\n",
    "#             samp_out[tgt_line_ind] = tgt_line / np.sum(tgt_line)\n",
    "#         out_X = np.append(out_X, [samp_out], axis=0)\n",
    "#         if chi1_orig > np.pi:\n",
    "#             chi1_orig -= 2*np.pi\n",
    "#         out_y = np.append(out_y, chi1_orig)\n",
    "#     return out_X, out_y"
   ]
  },
  {
   "cell_type": "code",
   "execution_count": 161,
   "metadata": {},
   "outputs": [],
   "source": [
    "class DataGenerator(Dataset):\n",
    "    def __init__(self, wX, wy):\n",
    "        self.batch_size = 1\n",
    "        self.wX = wX\n",
    "        self.wy = wy\n",
    "\n",
    "    def __len__(self):\n",
    "        return (np.ceil(len(self.wX) / float(self.batch_size))).astype(np.int)\n",
    "    \n",
    "    def __getitem__(self, idx):\n",
    "        batch_x = self.wX[idx * self.batch_size:(idx+1) * self.batch_size]\n",
    "        batch_y = self.wy[idx * self.batch_size:(idx+1) * self.batch_size]\n",
    "        ymod = (batch_y + 2*np.pi) % (2*np.pi)\n",
    "        y_bin = np.array(ymod / (np.pi / 18), dtype=int)\n",
    "        batch_y = y_bin\n",
    "        # print(batch_x.shape)\n",
    "        # print(batch_y)\n",
    "        return Tensor(batch_x), Tensor(batch_y)"
   ]
  },
  {
   "cell_type": "markdown",
   "metadata": {},
   "source": [
    "### Модель Linear x3 для categorical features + embedding"
   ]
  },
  {
   "cell_type": "code",
   "execution_count": 9,
   "metadata": {},
   "outputs": [],
   "source": []
  },
  {
   "cell_type": "code",
   "execution_count": 162,
   "metadata": {},
   "outputs": [],
   "source": [
    "class Net_lin_2(nn.Module):\n",
    "    def __init__(self, embedding_sizes, n_cont = 64):\n",
    "        super().__init__()\n",
    "        self.embeddings = nn.ModuleList([nn.Embedding(categories, size) for categories,size in embedding_sizes])\n",
    "        n_emb = sum(e.embedding_dim for e in self.embeddings) #length of all embeddings combined\n",
    "        self.n_emb, self.n_cont = n_emb, n_cont\n",
    "        self.lin1 = nn.Linear(self.n_emb, 128)\n",
    "        self.lin2 = nn.Linear(128, 64)\n",
    "        self.lin3 = nn.Linear(64, 36)\n",
    "        self.bn2 = nn.BatchNorm1d(64)\n",
    "        self.out = Sigmoid()\n",
    "        \n",
    "\n",
    "    def forward(self, x_cat, x_cont):\n",
    "        x_temp = x_cat.permute(1, 2, 0)\n",
    "        x = []\n",
    "        for i, e in enumerate(self.embeddings):\n",
    "            x.append(e(x_temp[i].T))\n",
    "        x = torch.cat(x, 2)\n",
    "        x = F.relu(self.lin1(x))\n",
    "        x = self.bn2(x)\n",
    "        x = F.relu(self.lin2(x))\n",
    "        x = self.lin3(x)\n",
    "        x = self.out(x)\n",
    "        return x"
   ]
  },
  {
   "cell_type": "code",
   "execution_count": 163,
   "metadata": {},
   "outputs": [],
   "source": [
    "ar_dims = np.array([20, 2, 3, 5, 7, 11, 3, 4, 8, 36, 36])\n",
    "ar_dims\n",
    "embedding_sizes = []\n",
    "for i in range(11):\n",
    "    embedding_sizes.append((ar_dims[i], (ar_dims[i] + 1) // 2))"
   ]
  },
  {
   "cell_type": "code",
   "execution_count": 164,
   "metadata": {},
   "outputs": [],
   "source": [
    "start_model = Net_lin_2(embedding_sizes, 64)\n",
    "start_model.load_state_dict(torch.load('nn_3_le.pth'))\n",
    "optimizer = Adam(start_model.parameters())\n",
    "loss_func = nn.BCELoss()"
   ]
  },
  {
   "cell_type": "code",
   "execution_count": 165,
   "metadata": {},
   "outputs": [],
   "source": [
    "def proceed_samples(X, md_wrapper):\n",
    "    out_X, out_y = np.empty((0, 64, 36)), np.empty(0)\n",
    "    print(\"Processing samples:\")\n",
    "    for samp in tqdm(X):\n",
    "        samp_out = np.zeros((64, 36))\n",
    "        subsamps, i_start_begin, tgt_ind, chi1_orig = samp\n",
    "        for i in range(len(subsamps)):\n",
    "            X_new = None\n",
    "            flag = True\n",
    "            pred_ind = 0\n",
    "            for ind in ar_dims:\n",
    "                x_temp = subsamps[i].T[pred_ind:pred_ind + ind].T\n",
    "                x_temp_2 = np.argmax(x_temp, axis=1)\n",
    "                pred_ind += ind\n",
    "                if flag:\n",
    "                    X_new = x_temp_2.reshape(1, -1)\n",
    "                    flag = False\n",
    "                else:\n",
    "                    X_new = np.vstack([X_new, x_temp_2.reshape(1, -1)])\n",
    "            \n",
    "            pred = md_wrapper.predict(torch.from_numpy(X_new).unsqueeze(0))[0]\n",
    "            tgt_line_ind = tgt_ind - i_start_begin - i\n",
    "            tgt_line = pred[tgt_line_ind]\n",
    "            samp_out[tgt_line_ind] = tgt_line.detach().numpy() / np.sum(tgt_line.detach().numpy())\n",
    "        out_X = np.append(out_X, [samp_out], axis=0)\n",
    "        if chi1_orig > np.pi:\n",
    "            chi1_orig -= 2*np.pi\n",
    "        out_y = np.append(out_y, chi1_orig)\n",
    "    return out_X, out_y"
   ]
  },
  {
   "cell_type": "code",
   "execution_count": 166,
   "metadata": {},
   "outputs": [],
   "source": [
    "class MLModelWrapper:\n",
    "    def __init__(self, md_instance, is_keras):\n",
    "        self._md = md_instance\n",
    "        self._md_is_keras = is_keras\n",
    "\n",
    "    def predict(self, X):\n",
    "        if self._md_is_keras:\n",
    "            return self._md.predict(X)\n",
    "        else:\n",
    "            return self._md.forward(X, None)"
   ]
  },
  {
   "cell_type": "code",
   "execution_count": 167,
   "metadata": {},
   "outputs": [
    {
     "name": "stdout",
     "output_type": "stream",
     "text": [
      "Processing samples:\n"
     ]
    },
    {
     "data": {
      "application/vnd.jupyter.widget-view+json": {
       "model_id": "31c3ee428c9047738390e2fde6b5ed30",
       "version_major": 2,
       "version_minor": 0
      },
      "text/plain": [
       "HBox(children=(HTML(value=''), FloatProgress(value=0.0, max=1000.0), HTML(value='')))"
      ]
     },
     "metadata": {},
     "output_type": "display_data"
    },
    {
     "name": "stdout",
     "output_type": "stream",
     "text": [
      "\n"
     ]
    }
   ],
   "source": [
    "wrapper = MLModelWrapper(start_model, False)\n",
    "wX, wy = proceed_samples(X_train, wrapper)"
   ]
  },
  {
   "cell_type": "code",
   "execution_count": 22,
   "metadata": {},
   "outputs": [
    {
     "data": {
      "image/png": "[encoded data removed]",
      "text/plain": [
       "<Figure size 1080x360 with 1 Axes>"
      ]
     },
     "metadata": {
      "needs_background": "light"
     },
     "output_type": "display_data"
    }
   ],
   "source": [
    "wy_bins = np.array(((wy + 2*np.pi) % (2*np.pi)) / (np.pi / 18), dtype=int)\n",
    "plt.figure(figsize=(15,5))\n",
    "plt.hist(wy_bins, 20)\n",
    "plt.savefig('data_2phase.png')"
   ]
  },
  {
   "cell_type": "markdown",
   "metadata": {},
   "source": [
    "### NN1"
   ]
  },
  {
   "cell_type": "code",
   "execution_count": 23,
   "metadata": {},
   "outputs": [],
   "source": [
    "class MulticlassClassification(nn.Module):\n",
    "    def __init__(self, num_feature, num_class):\n",
    "        super(MulticlassClassification, self).__init__()\n",
    "        \n",
    "        self.layer_1 = nn.Linear(num_feature, 512)\n",
    "        self.layer_2 = nn.Linear(512, 128)\n",
    "        self.layer_3 = nn.Linear(128, 64)\n",
    "        self.layer_out = nn.Linear(64, num_class)\n",
    "        \n",
    "        self.relu = nn.ReLU()\n",
    "        self.dropout = nn.Dropout(p=0.2)\n",
    "        self.batchnorm1 = nn.BatchNorm1d(512)\n",
    "        self.batchnorm2 = nn.BatchNorm1d(128)\n",
    "        self.batchnorm3 = nn.BatchNorm1d(64)\n",
    "        \n",
    "    def forward(self, x):\n",
    "        x = x.reshape(x.shape[0], 64 * 36)\n",
    "        x = self.layer_1(x)\n",
    "        x = self.batchnorm1(x)\n",
    "        x = self.relu(x)\n",
    "        \n",
    "        x = self.layer_2(x)\n",
    "        x = self.batchnorm2(x)\n",
    "        x = self.relu(x)\n",
    "        \n",
    "        x = self.layer_3(x)\n",
    "        x = self.batchnorm3(x)\n",
    "        x = self.relu(x)\n",
    "        \n",
    "        x = self.layer_out(x)\n",
    "        \n",
    "        return x"
   ]
  },
  {
   "cell_type": "code",
   "execution_count": 169,
   "metadata": {},
   "outputs": [],
   "source": [
    "train_set = DataGenerator(wX, wy)\n",
    "train_generator = DataLoader(train_set, \n",
    "                             batch_size=16, \n",
    "                             shuffle=True)"
   ]
  },
  {
   "cell_type": "code",
   "execution_count": 25,
   "metadata": {},
   "outputs": [],
   "source": [
    "model_1 = MulticlassClassification(num_feature = 2304, num_class=36)"
   ]
  },
  {
   "cell_type": "code",
   "execution_count": 26,
   "metadata": {},
   "outputs": [],
   "source": [
    "loss_func = nn.CrossEntropyLoss()\n",
    "optimizer = Adam(model_1.parameters(), lr=0.0001)"
   ]
  },
  {
   "cell_type": "code",
   "execution_count": 170,
   "metadata": {},
   "outputs": [
    {
     "name": "stdout",
     "output_type": "stream",
     "text": [
      "Processing samples:\n"
     ]
    },
    {
     "data": {
      "application/vnd.jupyter.widget-view+json": {
       "model_id": "c17d514041be4b39ba7daf7de821a343",
       "version_major": 2,
       "version_minor": 0
      },
      "text/plain": [
       "HBox(children=(HTML(value=''), FloatProgress(value=0.0, max=400.0), HTML(value='')))"
      ]
     },
     "metadata": {},
     "output_type": "display_data"
    },
    {
     "name": "stdout",
     "output_type": "stream",
     "text": [
      "\n"
     ]
    }
   ],
   "source": [
    "# wX, wy = proceed_samples(X_test, wrapper)"
   ]
  },
  {
   "cell_type": "code",
   "execution_count": 171,
   "metadata": {},
   "outputs": [],
   "source": [
    "# test_set = DataGenerator(wX, wy)\n",
    "# test_generator = DataLoader(test_set, \n",
    "#                              batch_size=1, \n",
    "#                              shuffle=False)"
   ]
  },
  {
   "cell_type": "code",
   "execution_count": 172,
   "metadata": {},
   "outputs": [
    {
     "data": {
      "text/plain": [
       "(1000, 400)"
      ]
     },
     "execution_count": 172,
     "metadata": {},
     "output_type": "execute_result"
    }
   ],
   "source": [
    "len(train_set), len(test_set)"
   ]
  },
  {
   "cell_type": "code",
   "execution_count": 1,
   "metadata": {},
   "outputs": [],
   "source": [
    "model_1.train()\n",
    "for k in range(20):\n",
    "  for i, (X, y) in enumerate(train_generator):\n",
    "      optimizer.zero_grad()\n",
    "      y_pred = model_1(X)\n",
    "      pred_loss = loss_func(y_pred, y.reshape(-1).long())\n",
    "      pred_loss.backward()\n",
    "      torch.nn.utils.clip_grad_norm_(model_1.parameters(), 1)#\n",
    "      optimizer.step()\n",
    "      if i % 300:\n",
    "        print(pred_loss.item())"
   ]
  },
  {
   "cell_type": "code",
   "execution_count": 38,
   "metadata": {},
   "outputs": [],
   "source": [
    "model_1.eval()\n",
    "predictions = []\n",
    "i = 0 # считаем правильные ответы с diff = 3\n",
    "with torch.no_grad():\n",
    "    for X, y in test_generator:\n",
    "      pred = model_1(X)\n",
    "      pred = nn.Softmax(dim=1)(pred)\n",
    "      predictions.append(pred)\n",
    "#       if np.abs(np.argmax(pred.cpu()) - y) <=6 or 36 - (np.abs(np.argmax(pred.cpu()) - y)) <=6:\n",
    "      if np.abs(np.argmax(pred.cpu()) - y) <=3:\n",
    "        i+= 1"
   ]
  },
  {
   "cell_type": "code",
   "execution_count": 39,
   "metadata": {},
   "outputs": [
    {
     "data": {
      "text/plain": [
       "0.6125"
      ]
     },
     "execution_count": 39,
     "metadata": {},
     "output_type": "execute_result"
    }
   ],
   "source": [
    "i / 400"
   ]
  },
  {
   "cell_type": "code",
   "execution_count": 558,
   "metadata": {},
   "outputs": [],
   "source": [
    "# torch.save(model_1.state_dict(), 'nn_1_weights_le_1_1.pth')"
   ]
  },
  {
   "cell_type": "code",
   "execution_count": 223,
   "metadata": {},
   "outputs": [],
   "source": [
    "qq = []\n",
    "for i in range(400):\n",
    "  t = np.abs(np.argmax(predictions[i].cpu().numpy()) - int(test_set[i][1].numpy()[0]))\n",
    "  qq += [min(t, 36 - t)]\n",
    "qp = np.quantile(qq, 0.75)\n",
    "plt.hist(qq, bins=9)\n",
    "plt.plot([qp, qp], [0, 200])\n",
    "plt.savefig('pic_q_1.png')\n"
   ]
  },
  {
   "cell_type": "markdown",
   "metadata": {},
   "source": [
    "### NN 2"
   ]
  },
  {
   "cell_type": "code",
   "execution_count": 41,
   "metadata": {},
   "outputs": [],
   "source": [
    "class Net_w(Module):\n",
    "    def __init__(self):\n",
    "        super().__init__()\n",
    "        self.lin1 = Linear(in_features=2304, out_features=1024)\n",
    "        self.act1 = ReLU()\n",
    "        self.lin2 = Linear(in_features=1024, out_features=256)\n",
    "        self.act2 = ReLU()\n",
    "        self.lin3 = Linear(in_features=256, out_features=36)\n",
    "        \n",
    "    def forward(self, x):\n",
    "        out = x.reshape(x.shape[0], 64 * 36)\n",
    "        out = self.lin1(out)\n",
    "        out = self.act1(out)\n",
    "        out = self.lin2(out)\n",
    "        out = self.act2(out)\n",
    "        out = self.lin3(out)\n",
    "        return out"
   ]
  },
  {
   "cell_type": "code",
   "execution_count": 42,
   "metadata": {},
   "outputs": [],
   "source": [
    "model_2 = Net_w()\n",
    "loss_func = nn.CrossEntropyLoss()\n",
    "optimizer = Adam(model_2.parameters())"
   ]
  },
  {
   "cell_type": "code",
   "execution_count": 225,
   "metadata": {},
   "outputs": [],
   "source": [
    "model_2.train()\n",
    "for k in range(30):\n",
    "  for i, (X, y) in enumerate(train_generator):\n",
    "      optimizer.zero_grad()\n",
    "      y_pred = model_2(X)\n",
    "      pred_loss = loss_func(y_pred, y.reshape(-1).long())\n",
    "      pred_loss.backward()\n",
    "      torch.nn.utils.clip_grad_norm_(model_2.parameters(), 1)#\n",
    "      optimizer.step()\n",
    "      if i % 50:\n",
    "        print(pred_loss.item())"
   ]
  },
  {
   "cell_type": "code",
   "execution_count": 50,
   "metadata": {},
   "outputs": [],
   "source": [
    "model_1.eval()\n",
    "predictions = []\n",
    "i = 0 # считаем правильные ответы с diff = 3\n",
    "with torch.no_grad():\n",
    "    for X, y in test_generator:\n",
    "      pred = model_1(X)\n",
    "      pred = nn.Softmax(dim=1)(pred)\n",
    "      predictions.append(pred)\n",
    "#       if np.abs(np.argmax(pred.cpu()) - y) <=6 or 36 - (np.abs(np.argmax(pred.cpu()) - y)) <=6:\n",
    "      if np.abs(np.argmax(pred.cpu()) - y) <=3:\n",
    "        i+= 1"
   ]
  },
  {
   "cell_type": "code",
   "execution_count": 51,
   "metadata": {},
   "outputs": [
    {
     "data": {
      "text/plain": [
       "0.625"
      ]
     },
     "execution_count": 51,
     "metadata": {},
     "output_type": "execute_result"
    }
   ],
   "source": [
    "i / 400"
   ]
  },
  {
   "cell_type": "code",
   "execution_count": null,
   "metadata": {},
   "outputs": [],
   "source": []
  },
  {
   "cell_type": "markdown",
   "metadata": {},
   "source": [
    "### NN 3"
   ]
  },
  {
   "cell_type": "code",
   "execution_count": 193,
   "metadata": {},
   "outputs": [],
   "source": [
    "class Net1_cnn(Module):\n",
    "    def __init__(self):\n",
    "        super().__init__()\n",
    "\n",
    "        self.conv1 = Conv2d(1, 32, kernel_size=3)\n",
    "        self.act1 = ReLU()\n",
    "        self.pool1 = MaxPool2d(kernel_size=(2,2), stride=2)\n",
    "\n",
    "        self.conv2 = Conv2d(32, 16, kernel_size=3)\n",
    "        self.act2 = ReLU()\n",
    "\n",
    "        self.conv3 = Conv2d(16, 8, kernel_size=3)\n",
    "        self.act3 = ReLU()\n",
    "\n",
    "\n",
    "        self.flatten = Flatten()\n",
    "        self.lin1 = Linear(2808, 36)\n",
    "\n",
    "        \n",
    "    def forward(self, x):\n",
    "        x = x.reshape(x.shape[0], 1,  64, 36)\n",
    "\n",
    "        out = self.conv1(x)\n",
    "        out = self.act1(out)\n",
    "        out = self.pool1(out)\n",
    "\n",
    "        out = self.conv2(out)\n",
    "        out = self.act2(out)\n",
    "\n",
    "        out = self.conv3(out)\n",
    "        out = self.act3(out)\n",
    "        out = self.flatten(out)\n",
    "\n",
    "        out = self.lin1(out)\n",
    "        return out"
   ]
  },
  {
   "cell_type": "code",
   "execution_count": 194,
   "metadata": {},
   "outputs": [],
   "source": [
    "model_3 = Net1_cnn()\n",
    "loss_func = nn.CrossEntropyLoss()\n",
    "optimizer = Adam(model_3.parameters())"
   ]
  },
  {
   "cell_type": "code",
   "execution_count": 149,
   "metadata": {},
   "outputs": [],
   "source": [
    "model_3.train()\n",
    "for k in range(30):\n",
    "  for i, (X, y) in enumerate(train_generator):\n",
    "      optimizer.zero_grad()\n",
    "      y_pred = model_3(X)\n",
    "      pred_loss = loss_func(y_pred, y.reshape(-1).long())\n",
    "      pred_loss.backward()\n",
    "      torch.nn.utils.clip_grad_norm_(model_3.parameters(), 1)#\n",
    "      optimizer.step()\n",
    "      if i % 50:\n",
    "        print(pred_loss.item())\n"
   ]
  },
  {
   "cell_type": "code",
   "execution_count": null,
   "metadata": {},
   "outputs": [],
   "source": []
  },
  {
   "cell_type": "code",
   "execution_count": null,
   "metadata": {},
   "outputs": [],
   "source": []
  },
  {
   "cell_type": "code",
   "execution_count": 216,
   "metadata": {},
   "outputs": [],
   "source": [
    "torch.save(model_3.state_dict(), 'aggreg.pth') # 1"
   ]
  },
  {
   "cell_type": "code",
   "execution_count": null,
   "metadata": {},
   "outputs": [],
   "source": []
  },
  {
   "cell_type": "code",
   "execution_count": null,
   "metadata": {},
   "outputs": [],
   "source": []
  },
  {
   "cell_type": "code",
   "execution_count": 219,
   "metadata": {},
   "outputs": [
    {
     "name": "stdout",
     "output_type": "stream",
     "text": [
      "0.65\n"
     ]
    }
   ],
   "source": [
    "model_3.eval()\n",
    "predictions = []\n",
    "j = 0\n",
    "with torch.no_grad():\n",
    "    for X, y in test_generator:\n",
    "      pred = model_3(X)\n",
    "      pred = nn.Softmax(dim=1)(pred)\n",
    "      predictions.append(pred)\n",
    "      if np.abs(np.argmax(pred.cpu()) - y) <=3 or (36 - np.abs(np.argmax(pred.cpu()) - y)) <=3:\n",
    "        j+= 1\n",
    "print(j / 400)\n",
    "res_3 = j/400"
   ]
  },
  {
   "cell_type": "code",
   "execution_count": 221,
   "metadata": {},
   "outputs": [
    {
     "name": "stdout",
     "output_type": "stream",
     "text": [
      "0.6675\n"
     ]
    }
   ],
   "source": [
    "model_3.eval()\n",
    "predictions = []\n",
    "j = 0\n",
    "with torch.no_grad():\n",
    "    for X, y in test_generator:\n",
    "      pred = model_3(X)\n",
    "      pred = nn.Softmax(dim=1)(pred)\n",
    "      predictions.append(pred)\n",
    "      if np.abs(np.argmax(pred.cpu()) - y) <=6 or (36 - np.abs(np.argmax(pred.cpu()) - y)) <=6:\n",
    "        j+= 1\n",
    "print(j / 400)\n",
    "res_6 = j/400"
   ]
  },
  {
   "cell_type": "code",
   "execution_count": 230,
   "metadata": {},
   "outputs": [
    {
     "data": {
      "image/png": "[encoded data removed]",
      "text/plain": [
       "<Figure size 432x288 with 1 Axes>"
      ]
     },
     "metadata": {
      "needs_background": "light"
     },
     "output_type": "display_data"
    }
   ],
   "source": [
    "fig, ax = plt.subplots()\n",
    "qq = []\n",
    "for i in range(400):\n",
    "  t = np.abs(np.argmax(predictions[i].cpu().numpy()) - int(test_set[i][1].numpy()[0]))\n",
    "  qq += [min(t, 36 - t)]\n",
    "ax.hist(qq, bins=9)\n",
    "ax.axvline(x=3, label='3 bin: ' + str(res_3), color='r')\n",
    "ax.axvline(x=6, label='6 bin: ' + str(res_6), color='g')\n",
    "# plt.plot([qp, qp], [0, 200])\n",
    "# plt.savefig('pic_q_1.png')\n",
    "ax.legend()\n",
    "plt.savefig('pic_q_5.png')"
   ]
  },
  {
   "cell_type": "code",
   "execution_count": null,
   "metadata": {},
   "outputs": [],
   "source": []
  }
 ],
 "metadata": {
  "accelerator": "GPU",
  "colab": {
   "name": "clean_prediction_aggregation.ipynb",
   "provenance": []
  },
  "kernelspec": {
   "display_name": "Python 3",
   "language": "python",
   "name": "python3"
  },
  "language_info": {
   "codemirror_mode": {
    "name": "ipython",
    "version": 3
   },
   "file_extension": ".py",
   "mimetype": "text/x-python",
   "name": "python",
   "nbconvert_exporter": "python",
   "pygments_lexer": "ipython3",
   "version": "3.7.4"
  },
  "widgets": {
   "application/vnd.jupyter.widget-state+json": {
    "0358e5083ac440e7a1fa129e0bf53abe": {
     "model_module": "@jupyter-widgets/controls",
     "model_name": "DescriptionStyleModel",
     "state": {
      "_model_module": "@jupyter-widgets/controls",
      "_model_module_version": "1.5.0",
      "_model_name": "DescriptionStyleModel",
      "_view_count": null,
      "_view_module": "@jupyter-widgets/base",
      "_view_module_version": "1.2.0",
      "_view_name": "StyleView",
      "description_width": ""
     }
    },
    "05e331d3e1b64819b66aba3f068bf25e": {
     "model_module": "@jupyter-widgets/controls",
     "model_name": "DescriptionStyleModel",
     "state": {
      "_model_module": "@jupyter-widgets/controls",
      "_model_module_version": "1.5.0",
      "_model_name": "DescriptionStyleModel",
      "_view_count": null,
      "_view_module": "@jupyter-widgets/base",
      "_view_module_version": "1.2.0",
      "_view_name": "StyleView",
      "description_width": ""
     }
    },
    "0ce5bfc0678b4488ba58035dcb9cb967": {
     "model_module": "@jupyter-widgets/controls",
     "model_name": "ProgressStyleModel",
     "state": {
      "_model_module": "@jupyter-widgets/controls",
      "_model_module_version": "1.5.0",
      "_model_name": "ProgressStyleModel",
      "_view_count": null,
      "_view_module": "@jupyter-widgets/base",
      "_view_module_version": "1.2.0",
      "_view_name": "StyleView",
      "bar_color": null,
      "description_width": "initial"
     }
    },
    "0e8c0ea9baec4889b32a74494ea77cc8": {
     "model_module": "@jupyter-widgets/controls",
     "model_name": "FloatProgressModel",
     "state": {
      "_dom_classes": [],
      "_model_module": "@jupyter-widgets/controls",
      "_model_module_version": "1.5.0",
      "_model_name": "FloatProgressModel",
      "_view_count": null,
      "_view_module": "@jupyter-widgets/controls",
      "_view_module_version": "1.5.0",
      "_view_name": "ProgressView",
      "bar_style": "success",
      "description": "100%",
      "description_tooltip": null,
      "layout": "IPY_MODEL_99128ed5602745598d364f1e47f00402",
      "max": 1000,
      "min": 0,
      "orientation": "horizontal",
      "style": "IPY_MODEL_0ce5bfc0678b4488ba58035dcb9cb967",
      "value": 1000
     }
    },
    "11caf0dd5c994f3a9034a3ec7cfeb334": {
     "model_module": "@jupyter-widgets/controls",
     "model_name": "HBoxModel",
     "state": {
      "_dom_classes": [],
      "_model_module": "@jupyter-widgets/controls",
      "_model_module_version": "1.5.0",
      "_model_name": "HBoxModel",
      "_view_count": null,
      "_view_module": "@jupyter-widgets/controls",
      "_view_module_version": "1.5.0",
      "_view_name": "HBoxView",
      "box_style": "",
      "children": [
       "IPY_MODEL_c4203fcae0c8488abe74bebcfef97c33",
       "IPY_MODEL_ec96060613e44453b784844ec80a7cf4"
      ],
      "layout": "IPY_MODEL_ef858fe4e8ae41598964c4065480002a"
     }
    },
    "2934a3dc0883481f8777d03fa871bec8": {
     "model_module": "@jupyter-widgets/base",
     "model_name": "LayoutModel",
     "state": {
      "_model_module": "@jupyter-widgets/base",
      "_model_module_version": "1.2.0",
      "_model_name": "LayoutModel",
      "_view_count": null,
      "_view_module": "@jupyter-widgets/base",
      "_view_module_version": "1.2.0",
      "_view_name": "LayoutView",
      "align_content": null,
      "align_items": null,
      "align_self": null,
      "border": null,
      "bottom": null,
      "display": null,
      "flex": null,
      "flex_flow": null,
      "grid_area": null,
      "grid_auto_columns": null,
      "grid_auto_flow": null,
      "grid_auto_rows": null,
      "grid_column": null,
      "grid_gap": null,
      "grid_row": null,
      "grid_template_areas": null,
      "grid_template_columns": null,
      "grid_template_rows": null,
      "height": null,
      "justify_content": null,
      "justify_items": null,
      "left": null,
      "margin": null,
      "max_height": null,
      "max_width": null,
      "min_height": null,
      "min_width": null,
      "object_fit": null,
      "object_position": null,
      "order": null,
      "overflow": null,
      "overflow_x": null,
      "overflow_y": null,
      "padding": null,
      "right": null,
      "top": null,
      "visibility": null,
      "width": null
     }
    },
    "4b5f1ddae30641ddb4c1c7e582100229": {
     "model_module": "@jupyter-widgets/base",
     "model_name": "LayoutModel",
     "state": {
      "_model_module": "@jupyter-widgets/base",
      "_model_module_version": "1.2.0",
      "_model_name": "LayoutModel",
      "_view_count": null,
      "_view_module": "@jupyter-widgets/base",
      "_view_module_version": "1.2.0",
      "_view_name": "LayoutView",
      "align_content": null,
      "align_items": null,
      "align_self": null,
      "border": null,
      "bottom": null,
      "display": null,
      "flex": null,
      "flex_flow": null,
      "grid_area": null,
      "grid_auto_columns": null,
      "grid_auto_flow": null,
      "grid_auto_rows": null,
      "grid_column": null,
      "grid_gap": null,
      "grid_row": null,
      "grid_template_areas": null,
      "grid_template_columns": null,
      "grid_template_rows": null,
      "height": null,
      "justify_content": null,
      "justify_items": null,
      "left": null,
      "margin": null,
      "max_height": null,
      "max_width": null,
      "min_height": null,
      "min_width": null,
      "object_fit": null,
      "object_position": null,
      "order": null,
      "overflow": null,
      "overflow_x": null,
      "overflow_y": null,
      "padding": null,
      "right": null,
      "top": null,
      "visibility": null,
      "width": null
     }
    },
    "566a931340cd4aa18aea26c7c8c2b2b4": {
     "model_module": "@jupyter-widgets/controls",
     "model_name": "HBoxModel",
     "state": {
      "_dom_classes": [],
      "_model_module": "@jupyter-widgets/controls",
      "_model_module_version": "1.5.0",
      "_model_name": "HBoxModel",
      "_view_count": null,
      "_view_module": "@jupyter-widgets/controls",
      "_view_module_version": "1.5.0",
      "_view_name": "HBoxView",
      "box_style": "",
      "children": [
       "IPY_MODEL_a6a7426f76c542b19705632f1f2c295d",
       "IPY_MODEL_599100c1f8d94fdc8c411606fe989610"
      ],
      "layout": "IPY_MODEL_4b5f1ddae30641ddb4c1c7e582100229"
     }
    },
    "571d01c820ee41b28678aa63288d407b": {
     "model_module": "@jupyter-widgets/base",
     "model_name": "LayoutModel",
     "state": {
      "_model_module": "@jupyter-widgets/base",
      "_model_module_version": "1.2.0",
      "_model_name": "LayoutModel",
      "_view_count": null,
      "_view_module": "@jupyter-widgets/base",
      "_view_module_version": "1.2.0",
      "_view_name": "LayoutView",
      "align_content": null,
      "align_items": null,
      "align_self": null,
      "border": null,
      "bottom": null,
      "display": null,
      "flex": null,
      "flex_flow": null,
      "grid_area": null,
      "grid_auto_columns": null,
      "grid_auto_flow": null,
      "grid_auto_rows": null,
      "grid_column": null,
      "grid_gap": null,
      "grid_row": null,
      "grid_template_areas": null,
      "grid_template_columns": null,
      "grid_template_rows": null,
      "height": null,
      "justify_content": null,
      "justify_items": null,
      "left": null,
      "margin": null,
      "max_height": null,
      "max_width": null,
      "min_height": null,
      "min_width": null,
      "object_fit": null,
      "object_position": null,
      "order": null,
      "overflow": null,
      "overflow_x": null,
      "overflow_y": null,
      "padding": null,
      "right": null,
      "top": null,
      "visibility": null,
      "width": null
     }
    },
    "599100c1f8d94fdc8c411606fe989610": {
     "model_module": "@jupyter-widgets/controls",
     "model_name": "HTMLModel",
     "state": {
      "_dom_classes": [],
      "_model_module": "@jupyter-widgets/controls",
      "_model_module_version": "1.5.0",
      "_model_name": "HTMLModel",
      "_view_count": null,
      "_view_module": "@jupyter-widgets/controls",
      "_view_module_version": "1.5.0",
      "_view_name": "HTMLView",
      "description": "",
      "description_tooltip": null,
      "layout": "IPY_MODEL_cd525e77af8345d2be0cb73e139fcbb6",
      "placeholder": "​",
      "style": "IPY_MODEL_0358e5083ac440e7a1fa129e0bf53abe",
      "value": " 0/1000 [00:00&lt;?, ?it/s]"
     }
    },
    "5b91e0f774334b1d8c69a161c1931d44": {
     "model_module": "@jupyter-widgets/base",
     "model_name": "LayoutModel",
     "state": {
      "_model_module": "@jupyter-widgets/base",
      "_model_module_version": "1.2.0",
      "_model_name": "LayoutModel",
      "_view_count": null,
      "_view_module": "@jupyter-widgets/base",
      "_view_module_version": "1.2.0",
      "_view_name": "LayoutView",
      "align_content": null,
      "align_items": null,
      "align_self": null,
      "border": null,
      "bottom": null,
      "display": null,
      "flex": null,
      "flex_flow": null,
      "grid_area": null,
      "grid_auto_columns": null,
      "grid_auto_flow": null,
      "grid_auto_rows": null,
      "grid_column": null,
      "grid_gap": null,
      "grid_row": null,
      "grid_template_areas": null,
      "grid_template_columns": null,
      "grid_template_rows": null,
      "height": null,
      "justify_content": null,
      "justify_items": null,
      "left": null,
      "margin": null,
      "max_height": null,
      "max_width": null,
      "min_height": null,
      "min_width": null,
      "object_fit": null,
      "object_position": null,
      "order": null,
      "overflow": null,
      "overflow_x": null,
      "overflow_y": null,
      "padding": null,
      "right": null,
      "top": null,
      "visibility": null,
      "width": null
     }
    },
    "73cfec038c7b4fd2b59a4ed1fef1312e": {
     "model_module": "@jupyter-widgets/controls",
     "model_name": "HBoxModel",
     "state": {
      "_dom_classes": [],
      "_model_module": "@jupyter-widgets/controls",
      "_model_module_version": "1.5.0",
      "_model_name": "HBoxModel",
      "_view_count": null,
      "_view_module": "@jupyter-widgets/controls",
      "_view_module_version": "1.5.0",
      "_view_name": "HBoxView",
      "box_style": "",
      "children": [
       "IPY_MODEL_a175915ee7504abd9ae1f5cde80e56ec",
       "IPY_MODEL_837a21f00d734a94bd13b8bc8c6387a8"
      ],
      "layout": "IPY_MODEL_2934a3dc0883481f8777d03fa871bec8"
     }
    },
    "78262e8b6d554d98a8b781be5302dc89": {
     "model_module": "@jupyter-widgets/controls",
     "model_name": "HTMLModel",
     "state": {
      "_dom_classes": [],
      "_model_module": "@jupyter-widgets/controls",
      "_model_module_version": "1.5.0",
      "_model_name": "HTMLModel",
      "_view_count": null,
      "_view_module": "@jupyter-widgets/controls",
      "_view_module_version": "1.5.0",
      "_view_name": "HTMLView",
      "description": "",
      "description_tooltip": null,
      "layout": "IPY_MODEL_d8d940f8ebd74051bb9d6c75024b5090",
      "placeholder": "​",
      "style": "IPY_MODEL_e146c7465d334dd5ac5d49bc86e16ee4",
      "value": " 1000/1000 [02:59&lt;00:00,  5.58it/s]"
     }
    },
    "7886313ad0a84590aee51a2fd7860edc": {
     "model_module": "@jupyter-widgets/controls",
     "model_name": "ProgressStyleModel",
     "state": {
      "_model_module": "@jupyter-widgets/controls",
      "_model_module_version": "1.5.0",
      "_model_name": "ProgressStyleModel",
      "_view_count": null,
      "_view_module": "@jupyter-widgets/base",
      "_view_module_version": "1.2.0",
      "_view_name": "StyleView",
      "bar_color": null,
      "description_width": "initial"
     }
    },
    "79a259f89eb6444185f6eb4d46f505fc": {
     "model_module": "@jupyter-widgets/controls",
     "model_name": "HBoxModel",
     "state": {
      "_dom_classes": [],
      "_model_module": "@jupyter-widgets/controls",
      "_model_module_version": "1.5.0",
      "_model_name": "HBoxModel",
      "_view_count": null,
      "_view_module": "@jupyter-widgets/controls",
      "_view_module_version": "1.5.0",
      "_view_name": "HBoxView",
      "box_style": "",
      "children": [
       "IPY_MODEL_0e8c0ea9baec4889b32a74494ea77cc8",
       "IPY_MODEL_78262e8b6d554d98a8b781be5302dc89"
      ],
      "layout": "IPY_MODEL_5b91e0f774334b1d8c69a161c1931d44"
     }
    },
    "837a21f00d734a94bd13b8bc8c6387a8": {
     "model_module": "@jupyter-widgets/controls",
     "model_name": "HTMLModel",
     "state": {
      "_dom_classes": [],
      "_model_module": "@jupyter-widgets/controls",
      "_model_module_version": "1.5.0",
      "_model_name": "HTMLModel",
      "_view_count": null,
      "_view_module": "@jupyter-widgets/controls",
      "_view_module_version": "1.5.0",
      "_view_name": "HTMLView",
      "description": "",
      "description_tooltip": null,
      "layout": "IPY_MODEL_d48292daafe541baae506f276c750a4a",
      "placeholder": "​",
      "style": "IPY_MODEL_be63e08ba23b499e96bf554d533d21f4",
      "value": " 400/400 [00:42&lt;00:00,  9.41it/s]"
     }
    },
    "87e3c969ab4b47a6a702a181ff893406": {
     "model_module": "@jupyter-widgets/controls",
     "model_name": "ProgressStyleModel",
     "state": {
      "_model_module": "@jupyter-widgets/controls",
      "_model_module_version": "1.5.0",
      "_model_name": "ProgressStyleModel",
      "_view_count": null,
      "_view_module": "@jupyter-widgets/base",
      "_view_module_version": "1.2.0",
      "_view_name": "StyleView",
      "bar_color": null,
      "description_width": "initial"
     }
    },
    "93bfbcd374f3419eb06e14fafbdc3727": {
     "model_module": "@jupyter-widgets/controls",
     "model_name": "ProgressStyleModel",
     "state": {
      "_model_module": "@jupyter-widgets/controls",
      "_model_module_version": "1.5.0",
      "_model_name": "ProgressStyleModel",
      "_view_count": null,
      "_view_module": "@jupyter-widgets/base",
      "_view_module_version": "1.2.0",
      "_view_name": "StyleView",
      "bar_color": null,
      "description_width": "initial"
     }
    },
    "99128ed5602745598d364f1e47f00402": {
     "model_module": "@jupyter-widgets/base",
     "model_name": "LayoutModel",
     "state": {
      "_model_module": "@jupyter-widgets/base",
      "_model_module_version": "1.2.0",
      "_model_name": "LayoutModel",
      "_view_count": null,
      "_view_module": "@jupyter-widgets/base",
      "_view_module_version": "1.2.0",
      "_view_name": "LayoutView",
      "align_content": null,
      "align_items": null,
      "align_self": null,
      "border": null,
      "bottom": null,
      "display": null,
      "flex": null,
      "flex_flow": null,
      "grid_area": null,
      "grid_auto_columns": null,
      "grid_auto_flow": null,
      "grid_auto_rows": null,
      "grid_column": null,
      "grid_gap": null,
      "grid_row": null,
      "grid_template_areas": null,
      "grid_template_columns": null,
      "grid_template_rows": null,
      "height": null,
      "justify_content": null,
      "justify_items": null,
      "left": null,
      "margin": null,
      "max_height": null,
      "max_width": null,
      "min_height": null,
      "min_width": null,
      "object_fit": null,
      "object_position": null,
      "order": null,
      "overflow": null,
      "overflow_x": null,
      "overflow_y": null,
      "padding": null,
      "right": null,
      "top": null,
      "visibility": null,
      "width": null
     }
    },
    "a175915ee7504abd9ae1f5cde80e56ec": {
     "model_module": "@jupyter-widgets/controls",
     "model_name": "FloatProgressModel",
     "state": {
      "_dom_classes": [],
      "_model_module": "@jupyter-widgets/controls",
      "_model_module_version": "1.5.0",
      "_model_name": "FloatProgressModel",
      "_view_count": null,
      "_view_module": "@jupyter-widgets/controls",
      "_view_module_version": "1.5.0",
      "_view_name": "ProgressView",
      "bar_style": "success",
      "description": "100%",
      "description_tooltip": null,
      "layout": "IPY_MODEL_fadf8659f1dc4d3ea49a2f9c2d62dd08",
      "max": 400,
      "min": 0,
      "orientation": "horizontal",
      "style": "IPY_MODEL_7886313ad0a84590aee51a2fd7860edc",
      "value": 400
     }
    },
    "a6a7426f76c542b19705632f1f2c295d": {
     "model_module": "@jupyter-widgets/controls",
     "model_name": "FloatProgressModel",
     "state": {
      "_dom_classes": [],
      "_model_module": "@jupyter-widgets/controls",
      "_model_module_version": "1.5.0",
      "_model_name": "FloatProgressModel",
      "_view_count": null,
      "_view_module": "@jupyter-widgets/controls",
      "_view_module_version": "1.5.0",
      "_view_name": "ProgressView",
      "bar_style": "danger",
      "description": "  0%",
      "description_tooltip": null,
      "layout": "IPY_MODEL_571d01c820ee41b28678aa63288d407b",
      "max": 1000,
      "min": 0,
      "orientation": "horizontal",
      "style": "IPY_MODEL_93bfbcd374f3419eb06e14fafbdc3727",
      "value": 0
     }
    },
    "b4ad36bf66364cc2a7dd396e232b3ac0": {
     "model_module": "@jupyter-widgets/base",
     "model_name": "LayoutModel",
     "state": {
      "_model_module": "@jupyter-widgets/base",
      "_model_module_version": "1.2.0",
      "_model_name": "LayoutModel",
      "_view_count": null,
      "_view_module": "@jupyter-widgets/base",
      "_view_module_version": "1.2.0",
      "_view_name": "LayoutView",
      "align_content": null,
      "align_items": null,
      "align_self": null,
      "border": null,
      "bottom": null,
      "display": null,
      "flex": null,
      "flex_flow": null,
      "grid_area": null,
      "grid_auto_columns": null,
      "grid_auto_flow": null,
      "grid_auto_rows": null,
      "grid_column": null,
      "grid_gap": null,
      "grid_row": null,
      "grid_template_areas": null,
      "grid_template_columns": null,
      "grid_template_rows": null,
      "height": null,
      "justify_content": null,
      "justify_items": null,
      "left": null,
      "margin": null,
      "max_height": null,
      "max_width": null,
      "min_height": null,
      "min_width": null,
      "object_fit": null,
      "object_position": null,
      "order": null,
      "overflow": null,
      "overflow_x": null,
      "overflow_y": null,
      "padding": null,
      "right": null,
      "top": null,
      "visibility": null,
      "width": null
     }
    },
    "be63e08ba23b499e96bf554d533d21f4": {
     "model_module": "@jupyter-widgets/controls",
     "model_name": "DescriptionStyleModel",
     "state": {
      "_model_module": "@jupyter-widgets/controls",
      "_model_module_version": "1.5.0",
      "_model_name": "DescriptionStyleModel",
      "_view_count": null,
      "_view_module": "@jupyter-widgets/base",
      "_view_module_version": "1.2.0",
      "_view_name": "StyleView",
      "description_width": ""
     }
    },
    "c4203fcae0c8488abe74bebcfef97c33": {
     "model_module": "@jupyter-widgets/controls",
     "model_name": "FloatProgressModel",
     "state": {
      "_dom_classes": [],
      "_model_module": "@jupyter-widgets/controls",
      "_model_module_version": "1.5.0",
      "_model_name": "FloatProgressModel",
      "_view_count": null,
      "_view_module": "@jupyter-widgets/controls",
      "_view_module_version": "1.5.0",
      "_view_name": "ProgressView",
      "bar_style": "success",
      "description": "100%",
      "description_tooltip": null,
      "layout": "IPY_MODEL_b4ad36bf66364cc2a7dd396e232b3ac0",
      "max": 400,
      "min": 0,
      "orientation": "horizontal",
      "style": "IPY_MODEL_87e3c969ab4b47a6a702a181ff893406",
      "value": 400
     }
    },
    "cd525e77af8345d2be0cb73e139fcbb6": {
     "model_module": "@jupyter-widgets/base",
     "model_name": "LayoutModel",
     "state": {
      "_model_module": "@jupyter-widgets/base",
      "_model_module_version": "1.2.0",
      "_model_name": "LayoutModel",
      "_view_count": null,
      "_view_module": "@jupyter-widgets/base",
      "_view_module_version": "1.2.0",
      "_view_name": "LayoutView",
      "align_content": null,
      "align_items": null,
      "align_self": null,
      "border": null,
      "bottom": null,
      "display": null,
      "flex": null,
      "flex_flow": null,
      "grid_area": null,
      "grid_auto_columns": null,
      "grid_auto_flow": null,
      "grid_auto_rows": null,
      "grid_column": null,
      "grid_gap": null,
      "grid_row": null,
      "grid_template_areas": null,
      "grid_template_columns": null,
      "grid_template_rows": null,
      "height": null,
      "justify_content": null,
      "justify_items": null,
      "left": null,
      "margin": null,
      "max_height": null,
      "max_width": null,
      "min_height": null,
      "min_width": null,
      "object_fit": null,
      "object_position": null,
      "order": null,
      "overflow": null,
      "overflow_x": null,
      "overflow_y": null,
      "padding": null,
      "right": null,
      "top": null,
      "visibility": null,
      "width": null
     }
    },
    "d48292daafe541baae506f276c750a4a": {
     "model_module": "@jupyter-widgets/base",
     "model_name": "LayoutModel",
     "state": {
      "_model_module": "@jupyter-widgets/base",
      "_model_module_version": "1.2.0",
      "_model_name": "LayoutModel",
      "_view_count": null,
      "_view_module": "@jupyter-widgets/base",
      "_view_module_version": "1.2.0",
      "_view_name": "LayoutView",
      "align_content": null,
      "align_items": null,
      "align_self": null,
      "border": null,
      "bottom": null,
      "display": null,
      "flex": null,
      "flex_flow": null,
      "grid_area": null,
      "grid_auto_columns": null,
      "grid_auto_flow": null,
      "grid_auto_rows": null,
      "grid_column": null,
      "grid_gap": null,
      "grid_row": null,
      "grid_template_areas": null,
      "grid_template_columns": null,
      "grid_template_rows": null,
      "height": null,
      "justify_content": null,
      "justify_items": null,
      "left": null,
      "margin": null,
      "max_height": null,
      "max_width": null,
      "min_height": null,
      "min_width": null,
      "object_fit": null,
      "object_position": null,
      "order": null,
      "overflow": null,
      "overflow_x": null,
      "overflow_y": null,
      "padding": null,
      "right": null,
      "top": null,
      "visibility": null,
      "width": null
     }
    },
    "d8d940f8ebd74051bb9d6c75024b5090": {
     "model_module": "@jupyter-widgets/base",
     "model_name": "LayoutModel",
     "state": {
      "_model_module": "@jupyter-widgets/base",
      "_model_module_version": "1.2.0",
      "_model_name": "LayoutModel",
      "_view_count": null,
      "_view_module": "@jupyter-widgets/base",
      "_view_module_version": "1.2.0",
      "_view_name": "LayoutView",
      "align_content": null,
      "align_items": null,
      "align_self": null,
      "border": null,
      "bottom": null,
      "display": null,
      "flex": null,
      "flex_flow": null,
      "grid_area": null,
      "grid_auto_columns": null,
      "grid_auto_flow": null,
      "grid_auto_rows": null,
      "grid_column": null,
      "grid_gap": null,
      "grid_row": null,
      "grid_template_areas": null,
      "grid_template_columns": null,
      "grid_template_rows": null,
      "height": null,
      "justify_content": null,
      "justify_items": null,
      "left": null,
      "margin": null,
      "max_height": null,
      "max_width": null,
      "min_height": null,
      "min_width": null,
      "object_fit": null,
      "object_position": null,
      "order": null,
      "overflow": null,
      "overflow_x": null,
      "overflow_y": null,
      "padding": null,
      "right": null,
      "top": null,
      "visibility": null,
      "width": null
     }
    },
    "e146c7465d334dd5ac5d49bc86e16ee4": {
     "model_module": "@jupyter-widgets/controls",
     "model_name": "DescriptionStyleModel",
     "state": {
      "_model_module": "@jupyter-widgets/controls",
      "_model_module_version": "1.5.0",
      "_model_name": "DescriptionStyleModel",
      "_view_count": null,
      "_view_module": "@jupyter-widgets/base",
      "_view_module_version": "1.2.0",
      "_view_name": "StyleView",
      "description_width": ""
     }
    },
    "ec96060613e44453b784844ec80a7cf4": {
     "model_module": "@jupyter-widgets/controls",
     "model_name": "HTMLModel",
     "state": {
      "_dom_classes": [],
      "_model_module": "@jupyter-widgets/controls",
      "_model_module_version": "1.5.0",
      "_model_name": "HTMLModel",
      "_view_count": null,
      "_view_module": "@jupyter-widgets/controls",
      "_view_module_version": "1.5.0",
      "_view_name": "HTMLView",
      "description": "",
      "description_tooltip": null,
      "layout": "IPY_MODEL_fa0f383a894a4e78b830972a9e15459e",
      "placeholder": "​",
      "style": "IPY_MODEL_05e331d3e1b64819b66aba3f068bf25e",
      "value": " 400/400 [00:23&lt;00:00, 17.04it/s]"
     }
    },
    "ef858fe4e8ae41598964c4065480002a": {
     "model_module": "@jupyter-widgets/base",
     "model_name": "LayoutModel",
     "state": {
      "_model_module": "@jupyter-widgets/base",
      "_model_module_version": "1.2.0",
      "_model_name": "LayoutModel",
      "_view_count": null,
      "_view_module": "@jupyter-widgets/base",
      "_view_module_version": "1.2.0",
      "_view_name": "LayoutView",
      "align_content": null,
      "align_items": null,
      "align_self": null,
      "border": null,
      "bottom": null,
      "display": null,
      "flex": null,
      "flex_flow": null,
      "grid_area": null,
      "grid_auto_columns": null,
      "grid_auto_flow": null,
      "grid_auto_rows": null,
      "grid_column": null,
      "grid_gap": null,
      "grid_row": null,
      "grid_template_areas": null,
      "grid_template_columns": null,
      "grid_template_rows": null,
      "height": null,
      "justify_content": null,
      "justify_items": null,
      "left": null,
      "margin": null,
      "max_height": null,
      "max_width": null,
      "min_height": null,
      "min_width": null,
      "object_fit": null,
      "object_position": null,
      "order": null,
      "overflow": null,
      "overflow_x": null,
      "overflow_y": null,
      "padding": null,
      "right": null,
      "top": null,
      "visibility": null,
      "width": null
     }
    },
    "fa0f383a894a4e78b830972a9e15459e": {
     "model_module": "@jupyter-widgets/base",
     "model_name": "LayoutModel",
     "state": {
      "_model_module": "@jupyter-widgets/base",
      "_model_module_version": "1.2.0",
      "_model_name": "LayoutModel",
      "_view_count": null,
      "_view_module": "@jupyter-widgets/base",
      "_view_module_version": "1.2.0",
      "_view_name": "LayoutView",
      "align_content": null,
      "align_items": null,
      "align_self": null,
      "border": null,
      "bottom": null,
      "display": null,
      "flex": null,
      "flex_flow": null,
      "grid_area": null,
      "grid_auto_columns": null,
      "grid_auto_flow": null,
      "grid_auto_rows": null,
      "grid_column": null,
      "grid_gap": null,
      "grid_row": null,
      "grid_template_areas": null,
      "grid_template_columns": null,
      "grid_template_rows": null,
      "height": null,
      "justify_content": null,
      "justify_items": null,
      "left": null,
      "margin": null,
      "max_height": null,
      "max_width": null,
      "min_height": null,
      "min_width": null,
      "object_fit": null,
      "object_position": null,
      "order": null,
      "overflow": null,
      "overflow_x": null,
      "overflow_y": null,
      "padding": null,
      "right": null,
      "top": null,
      "visibility": null,
      "width": null
     }
    },
    "fadf8659f1dc4d3ea49a2f9c2d62dd08": {
     "model_module": "@jupyter-widgets/base",
     "model_name": "LayoutModel",
     "state": {
      "_model_module": "@jupyter-widgets/base",
      "_model_module_version": "1.2.0",
      "_model_name": "LayoutModel",
      "_view_count": null,
      "_view_module": "@jupyter-widgets/base",
      "_view_module_version": "1.2.0",
      "_view_name": "LayoutView",
      "align_content": null,
      "align_items": null,
      "align_self": null,
      "border": null,
      "bottom": null,
      "display": null,
      "flex": null,
      "flex_flow": null,
      "grid_area": null,
      "grid_auto_columns": null,
      "grid_auto_flow": null,
      "grid_auto_rows": null,
      "grid_column": null,
      "grid_gap": null,
      "grid_row": null,
      "grid_template_areas": null,
      "grid_template_columns": null,
      "grid_template_rows": null,
      "height": null,
      "justify_content": null,
      "justify_items": null,
      "left": null,
      "margin": null,
      "max_height": null,
      "max_width": null,
      "min_height": null,
      "min_width": null,
      "object_fit": null,
      "object_position": null,
      "order": null,
      "overflow": null,
      "overflow_x": null,
      "overflow_y": null,
      "padding": null,
      "right": null,
      "top": null,
      "visibility": null,
      "width": null
     }
    }
   }
  }
 },
 "nbformat": 4,
 "nbformat_minor": 1
}
